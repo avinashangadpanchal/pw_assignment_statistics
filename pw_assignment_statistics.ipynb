{
  "nbformat": 4,
  "nbformat_minor": 0,
  "metadata": {
    "colab": {
      "provenance": []
    },
    "kernelspec": {
      "name": "python3",
      "display_name": "Python 3"
    },
    "language_info": {
      "name": "python"
    }
  },
  "cells": [
    {
      "cell_type": "markdown",
      "source": [
        "Q1. Generate a list 100 integers containing values between 90 to 130 and store it in the variable `int_list`.\n",
        "After generating the list, find the following:"
      ],
      "metadata": {
        "id": "8cnCCiP9tJz0"
      }
    },
    {
      "cell_type": "code",
      "execution_count": 9,
      "metadata": {
        "colab": {
          "base_uri": "https://localhost:8080/"
        },
        "id": "ynMlp2xYs1aa",
        "outputId": "692a3663-7f8e-479d-da49-36d8cbee8d15"
      },
      "outputs": [
        {
          "output_type": "stream",
          "name": "stdout",
          "text": [
            "[120, 115, 125, 94, 130, 92, 95, 123, 106, 102, 115, 95, 98, 118, 91, 129, 92, 111, 93, 117, 101, 93, 105, 95, 130, 109, 127, 95, 118, 116, 96, 113, 122, 100, 117, 115, 129, 107, 117, 118, 114, 110, 110, 93, 118, 104, 116, 113, 104, 96, 128, 121, 92, 106, 129, 104, 123, 100, 95, 128, 93, 108, 118, 110, 98, 130, 104, 107, 98, 122, 93, 114, 126, 92, 104, 118, 115, 117, 113, 130, 129, 113, 122, 102, 102, 98, 98, 126, 94, 105, 109, 130, 125, 111, 101, 102, 104, 102, 95, 126]\n"
          ]
        }
      ],
      "source": [
        "# Generate a list 100 integers containing values between 90 to 130 and store it in the variable int_list\n",
        "\n",
        "import random\n",
        "\n",
        "int_list = [random.randint(90, 130) for _ in range(100)]\n",
        "print(int_list)"
      ]
    },
    {
      "cell_type": "code",
      "source": [
        "# 1. Write a Python function to calculate the mean of a given list of numbers.\n",
        "# Create a function to find the median of a list of numbers.\n",
        "\n",
        "def calculate_mean(numbers):\n",
        "  \"\"\"\n",
        "  Calculates the mean of a given list of numbers.\n",
        "\n",
        "  Args:\n",
        "    numbers: A list of numbers.\n",
        "\n",
        "  Returns:\n",
        "    The mean of the list.\n",
        "  \"\"\"\n",
        "  total = sum(numbers)\n",
        "  count = len(numbers)\n",
        "  if count == 0:\n",
        "    return 0\n",
        "  else:\n",
        "    return total / count\n",
        "\n",
        "def find_median(numbers):\n",
        "  \"\"\"\n",
        "  Finds the median of a list of numbers.\n",
        "\n",
        "  Args:\n",
        "    numbers: A list of numbers.\n",
        "\n",
        "  Returns:\n",
        "    The median of the list.\n",
        "  \"\"\"\n",
        "  numbers.sort()\n",
        "  n = len(numbers)\n",
        "  if n == 0:\n",
        "    return 0\n",
        "  elif n % 2 == 0:\n",
        "    mid1 = numbers[n // 2 - 1]\n",
        "    mid2 = numbers[n // 2]\n",
        "    median = (mid1 + mid2) / 2\n",
        "  else:\n",
        "    median = numbers[n // 2]\n",
        "  return median\n",
        "\n",
        "#test\n",
        "numbers = int_list\n",
        "mean = calculate_mean(numbers)\n",
        "median = find_median(numbers)\n",
        "print(f\"Mean: {mean}\")\n",
        "print(f\"Median: {median}\")\n",
        "\n",
        "#"
      ],
      "metadata": {
        "colab": {
          "base_uri": "https://localhost:8080/"
        },
        "id": "K8vzUiCWtJTr",
        "outputId": "63a45d8a-888c-4fc6-fbef-d133a54bba44"
      },
      "execution_count": 10,
      "outputs": [
        {
          "output_type": "stream",
          "name": "stdout",
          "text": [
            "Mean: 109.92\n",
            "Median: 110.0\n"
          ]
        }
      ]
    },
    {
      "cell_type": "code",
      "source": [
        "# 2.Develop a program to compute the mode of a list of integers.\n",
        "\n",
        "from collections import Counter\n",
        "\n",
        "def find_mode(numbers):\n",
        "  \"\"\"\n",
        "  Computes the mode of a list of integers.\n",
        "\n",
        "  Args:\n",
        "    numbers: A list of integers.\n",
        "\n",
        "  Returns:\n",
        "    The mode of the list.\n",
        "  \"\"\"\n",
        "  if not numbers:\n",
        "    return None\n",
        "\n",
        "  counts = Counter(numbers)\n",
        "  max_count = max(counts.values())\n",
        "  mode = [key for key, value in counts.items() if value == max_count]\n",
        "  return mode\n",
        "\n",
        "# Test the function\n",
        "numbers = int_list\n",
        "mode = find_mode(numbers)\n",
        "print(f\"Mode: {mode}\")\n"
      ],
      "metadata": {
        "colab": {
          "base_uri": "https://localhost:8080/"
        },
        "id": "EYqInzLguEHm",
        "outputId": "a540bee2-b5e7-4e42-a049-c79a909b15c3"
      },
      "execution_count": 11,
      "outputs": [
        {
          "output_type": "stream",
          "name": "stdout",
          "text": [
            "Mode: [95, 104, 118]\n"
          ]
        }
      ]
    },
    {
      "cell_type": "code",
      "source": [
        "# 3. Implement a function to calculate the weighted mean of a list of values and their corresponding weights.\n",
        "\n",
        "def calculate_weighted_mean(values, weights):\n",
        "  \"\"\"\n",
        "  Calculates the weighted mean of a list of values and their corresponding weights.\n",
        "\n",
        "  Args:\n",
        "    values: A list of values.\n",
        "    weights: A list of weights corresponding to the values.\n",
        "\n",
        "  Returns:\n",
        "    The weighted mean.\n",
        "  \"\"\"\n",
        "  if not values or not weights or len(values) != len(weights):\n",
        "    return None\n",
        "\n",
        "  weighted_sum = sum([val * weight for val, weight in zip(values, weights)])\n",
        "  total_weight = sum(weights)\n",
        "  if total_weight == 0:\n",
        "    return 0\n",
        "  else:\n",
        "    return weighted_sum / total_weight\n",
        "\n",
        "# Example usage:\n",
        "values = [10, 20, 30]\n",
        "weights = [0.2, 0.5, 0.3]\n",
        "weighted_mean = calculate_weighted_mean(values, weights)\n",
        "print(f\"Weighted Mean: {weighted_mean}\")\n"
      ],
      "metadata": {
        "colab": {
          "base_uri": "https://localhost:8080/"
        },
        "id": "xePT3FCduEKn",
        "outputId": "4438af70-60f4-4fd9-e2b5-60c2cd15a06a"
      },
      "execution_count": 12,
      "outputs": [
        {
          "output_type": "stream",
          "name": "stdout",
          "text": [
            "Weighted Mean: 21.0\n"
          ]
        }
      ]
    },
    {
      "cell_type": "code",
      "source": [
        "# 4. Write a Python function to find the geometric mean of a list of positive numbers.\n",
        "\n",
        "import math\n",
        "\n",
        "def find_geometric_mean(numbers):\n",
        "  \"\"\"\n",
        "  Calculates the geometric mean of a list of positive numbers.\n",
        "\n",
        "  Args:\n",
        "    numbers: A list of positive numbers.\n",
        "\n",
        "  Returns:\n",
        "    The geometric mean of the list.\n",
        "  \"\"\"\n",
        "  if not numbers:\n",
        "    return None\n",
        "\n",
        "  product = 1\n",
        "  for number in numbers:\n",
        "    if number <= 0:\n",
        "      return None  # Geometric mean is undefined for non-positive numbers\n",
        "    product *= number\n",
        "\n",
        "  return math.pow(product, 1 / len(numbers))\n",
        "\n",
        "# Example usage:\n",
        "numbers = [2, 4, 8]\n",
        "geometric_mean = find_geometric_mean(numbers)\n",
        "print(f\"Geometric Mean: {geometric_mean}\")\n"
      ],
      "metadata": {
        "colab": {
          "base_uri": "https://localhost:8080/"
        },
        "id": "SJ8MYd4UuEM5",
        "outputId": "fb6b104e-5573-41b6-89de-65d4360aed85"
      },
      "execution_count": 13,
      "outputs": [
        {
          "output_type": "stream",
          "name": "stdout",
          "text": [
            "Geometric Mean: 3.9999999999999996\n"
          ]
        }
      ]
    },
    {
      "cell_type": "code",
      "source": [
        "# 5. Create a program to calculate the harmonic mean of a list of values\n",
        "\n",
        "def calculate_harmonic_mean(numbers):\n",
        "  \"\"\"\n",
        "  Calculates the harmonic mean of a list of numbers.\n",
        "\n",
        "  Args:\n",
        "    numbers: A list of numbers.\n",
        "\n",
        "  Returns:\n",
        "    The harmonic mean of the list.\n",
        "  \"\"\"\n",
        "  if not numbers:\n",
        "    return None\n",
        "\n",
        "  total_reciprocals = sum([1 / num for num in numbers if num != 0])\n",
        "  if total_reciprocals == 0:\n",
        "    return 0\n",
        "  else:\n",
        "    return len(numbers) / total_reciprocals\n",
        "\n",
        "# Example usage:\n",
        "numbers = int_list\n",
        "harmonic_mean = calculate_harmonic_mean(numbers)\n",
        "print(f\"Harmonic Mean: {harmonic_mean}\")\n"
      ],
      "metadata": {
        "colab": {
          "base_uri": "https://localhost:8080/"
        },
        "id": "uyPuBKnLuEPi",
        "outputId": "d18a158b-d521-4565-9bef-8ba13553b4e4"
      },
      "execution_count": 14,
      "outputs": [
        {
          "output_type": "stream",
          "name": "stdout",
          "text": [
            "Harmonic Mean: 108.6052119639891\n"
          ]
        }
      ]
    },
    {
      "cell_type": "code",
      "source": [
        "# 6. Build a function to determine the midrange of a list of numbers (average of the minimum and maximum).\n",
        "\n",
        "def find_midrange(numbers):\n",
        "  \"\"\"\n",
        "  Calculates the midrange of a list of numbers.\n",
        "\n",
        "  Args:\n",
        "    numbers: A list of numbers.\n",
        "\n",
        "  Returns:\n",
        "    The midrange of the list.\n",
        "  \"\"\"\n",
        "  if not numbers:\n",
        "    return None\n",
        "\n",
        "  min_value = min(numbers)\n",
        "  max_value = max(numbers)\n",
        "  midrange = (min_value + max_value) / 2\n",
        "  return midrange\n",
        "\n",
        "# Example usage:\n",
        "numbers = int_list\n",
        "midrange = find_midrange(numbers)\n",
        "print(f\"Midrange: {midrange}\")\n"
      ],
      "metadata": {
        "colab": {
          "base_uri": "https://localhost:8080/"
        },
        "id": "e9_5utGquESM",
        "outputId": "60356621-bcfe-4f58-af43-b50309dfd6fd"
      },
      "execution_count": 15,
      "outputs": [
        {
          "output_type": "stream",
          "name": "stdout",
          "text": [
            "Midrange: 110.5\n"
          ]
        }
      ]
    },
    {
      "cell_type": "code",
      "source": [
        "# 7.Implement a Python program to find the trimmed mean of a list, excluding a certain percentage of\n",
        "# outliers.\n",
        "\n",
        "def calculate_trimmed_mean(numbers, trim_percent):\n",
        "  \"\"\"\n",
        "  Calculates the trimmed mean of a list, excluding a certain percentage of outliers.\n",
        "\n",
        "  Args:\n",
        "    numbers: A list of numbers.\n",
        "    trim_percent: The percentage of outliers to trim from each end of the list.\n",
        "\n",
        "  Returns:\n",
        "    The trimmed mean of the list.\n",
        "  \"\"\"\n",
        "  if not numbers:\n",
        "    return None\n",
        "\n",
        "  numbers.sort()\n",
        "  n = len(numbers)\n",
        "  trim_count = int(n * (trim_percent / 100))\n",
        "  trimmed_list = numbers[trim_count:n - trim_count]\n",
        "  if not trimmed_list:\n",
        "    return 0\n",
        "  trimmed_mean = sum(trimmed_list) / len(trimmed_list)\n",
        "  return trimmed_mean\n",
        "\n",
        "# Example usage:\n",
        "numbers = int_list\n",
        "trim_percent = 10  # Trim 10% from each end\n",
        "trimmed_mean = calculate_trimmed_mean(numbers, trim_percent)\n",
        "print(f\"Trimmed Mean: {trimmed_mean}\")\n"
      ],
      "metadata": {
        "colab": {
          "base_uri": "https://localhost:8080/"
        },
        "id": "6NWxG-aFuEU2",
        "outputId": "1250cb6f-7b01-46c9-eae3-d921c654ed55"
      },
      "execution_count": 16,
      "outputs": [
        {
          "output_type": "stream",
          "name": "stdout",
          "text": [
            "Trimmed Mean: 109.675\n"
          ]
        }
      ]
    },
    {
      "cell_type": "markdown",
      "source": [
        "**2. Generate a list 500 integers containing values between 200 to 300 and store it in the variable `int_list2`.\n",
        "After generating the list, find the following:**"
      ],
      "metadata": {
        "id": "exMDs2nMwrnP"
      }
    },
    {
      "cell_type": "code",
      "source": [
        "# Generate a list 500 integers containing values between 200 to 300 and store it in the variable int_list2\n",
        "\n",
        "int_list2 = [random.randint(200, 300) for _ in range(500)]\n"
      ],
      "metadata": {
        "id": "5mfLdow3uEYB"
      },
      "execution_count": 19,
      "outputs": []
    },
    {
      "cell_type": "code",
      "source": [
        "# (i) Compare the given list of visualization for the given data:\n",
        "#     1. Frequency & Gaussian distribution\n",
        "#     2. Frequency smoothened KDE plot\n",
        "#     3. Gaussian distribution & smoothened KDE plot\n",
        "\n",
        "import matplotlib.pyplot as plt\n",
        "import seaborn as sns\n",
        "import numpy as np\n",
        "\n",
        "\n",
        "# 1. Frequency & Gaussian distribution\n",
        "plt.hist(int_list2, bins=20)\n",
        "plt.title('Frequency Distribution')\n",
        "plt.xlabel('Values')\n",
        "plt.ylabel('Frequency')\n",
        "plt.show()\n",
        "\n",
        "# Generate a Gaussian distribution for comparison\n",
        "mean = np.mean(int_list2)\n",
        "std_dev = np.std(int_list2)\n",
        "x = np.linspace(min(int_list2), max(int_list2), 100)\n",
        "y = (1 / (std_dev * np.sqrt(2 * np.pi))) * np.exp(-0.5 * ((x - mean) / std_dev) ** 2)\n",
        "plt.plot(x, y)\n",
        "plt.title('Gaussian Distribution')\n",
        "plt.xlabel('Values')\n",
        "plt.ylabel('Probability Density')\n",
        "plt.show()\n",
        "\n",
        "# 2. Frequency smoothened KDE plot\n",
        "sns.kdeplot(int_list2, bw_method='scott')\n",
        "plt.title('KDE Plot')\n",
        "plt.xlabel('Values')\n",
        "plt.ylabel('Density')\n",
        "plt.show()\n",
        "\n",
        "# 3. Gaussian distribution & smoothened KDE plot\n",
        "sns.kdeplot(int_list2, bw_method='scott')\n",
        "plt.title('Gaussian Distribution & KDE Plot')\n",
        "plt.xlabel('Values')\n",
        "plt.ylabel('Density')\n",
        "\n",
        "# Generate a Gaussian distribution for comparison\n",
        "mean = np.mean(int_list2)\n",
        "std_dev = np.std(int_list2)\n",
        "x = np.linspace(min(int_list2), max(int_list2), 100)\n",
        "y = (1 / (std_dev * np.sqrt(2 * np.pi))) * np.exp(-0.5 * ((x - mean) / std_dev) ** 2)\n",
        "plt.plot(x, y)\n",
        "plt.show()\n"
      ],
      "metadata": {
        "colab": {
          "base_uri": "https://localhost:8080/",
          "height": 1000
        },
        "id": "Kr6DNfJWuEaa",
        "outputId": "3bc3d4b9-3c37-465c-fcd3-5877bf4f11ec"
      },
      "execution_count": 20,
      "outputs": [
        {
          "output_type": "display_data",
          "data": {
            "text/plain": [
              "<Figure size 640x480 with 1 Axes>"
            ],
            "image/png": "[encoded data removed]"
          },
          "metadata": {}
        },
        {
          "output_type": "display_data",
          "data": {
            "text/plain": [
              "<Figure size 640x480 with 1 Axes>"
            ],
            "image/png": "[encoded data removed]"
          },
          "metadata": {}
        },
        {
          "output_type": "display_data",
          "data": {
            "text/plain": [
              "<Figure size 640x480 with 1 Axes>"
            ],
            "image/png": "[encoded data removed]"
          },
          "metadata": {}
        },
        {
          "output_type": "display_data",
          "data": {
            "text/plain": [
              "<Figure size 640x480 with 1 Axes>"
            ],
            "image/png": "[encoded data removed]"
          },
          "metadata": {}
        }
      ]
    },
    {
      "cell_type": "code",
      "source": [
        "#  (ii)  Write a Python function to calculate the range of a given list of numbers.\n",
        "\n",
        "def calculate_range(numbers):\n",
        "  \"\"\"\n",
        "  Calculates the range of a given list of numbers.\n",
        "\n",
        "  Args:\n",
        "    numbers: A list of numbers.\n",
        "\n",
        "  Returns:\n",
        "    The range of the list.\n",
        "  \"\"\"\n",
        "  if not numbers:\n",
        "    return None\n",
        "\n",
        "  min_value = min(numbers)\n",
        "  max_value = max(numbers)\n",
        "  range_value = max_value - min_value\n",
        "  return range_value\n"
      ],
      "metadata": {
        "id": "MvCwdvuauEc5"
      },
      "execution_count": 22,
      "outputs": []
    },
    {
      "cell_type": "code",
      "source": [
        "# (iii) Create a program to find the variance and standard deviation of a list of numbers.\n",
        "\n",
        "def calculate_variance(numbers):\n",
        "  \"\"\"\n",
        "  Calculates the variance of a given list of numbers.\n",
        "\n",
        "  Args:\n",
        "    numbers: A list of numbers.\n",
        "\n",
        "  Returns:\n",
        "    The variance of the list.\n",
        "  \"\"\"\n",
        "  if not numbers:\n",
        "    return None\n",
        "\n",
        "  n = len(numbers)\n",
        "  mean = sum(numbers) / n\n",
        "  variance = sum([(x - mean) ** 2 for x in numbers]) / n\n",
        "  return variance\n",
        "\n",
        "def calculate_standard_deviation(numbers):\n",
        "  \"\"\"\n",
        "  Calculates the standard deviation of a given list of numbers.\n",
        "\n",
        "  Args:\n",
        "    numbers: A list of numbers.\n",
        "\n",
        "  Returns:\n",
        "    The standard deviation of the list.\n",
        "  \"\"\"\n",
        "  variance = calculate_variance(numbers)\n",
        "  if variance is None:\n",
        "    return None\n",
        "  else:\n",
        "    return math.sqrt(variance)\n",
        "\n",
        "# Example usage:\n",
        "numbers = int_list2\n",
        "variance = calculate_variance(numbers)\n",
        "std_deviation = calculate_standard_deviation(numbers)\n",
        "print(f\"Variance: {variance}\")\n",
        "print(f\"Standard Deviation: {std_deviation}\")\n"
      ],
      "metadata": {
        "colab": {
          "base_uri": "https://localhost:8080/"
        },
        "id": "bLhh_BvNuEe7",
        "outputId": "66cac5f4-43f3-4cf0-b8ad-8dae4431c4f3"
      },
      "execution_count": 23,
      "outputs": [
        {
          "output_type": "stream",
          "name": "stdout",
          "text": [
            "Variance: 836.5915000000008\n",
            "Standard Deviation: 28.923891508578176\n"
          ]
        }
      ]
    },
    {
      "cell_type": "code",
      "source": [
        "# (iv) Implement a function to compute the interquartile range (IQR) of a list of values.\n",
        "\n",
        "def calculate_iqr(numbers):\n",
        "  \"\"\"\n",
        "  Computes the interquartile range (IQR) of a list of values.\n",
        "\n",
        "  Args:\n",
        "    numbers: A list of numbers.\n",
        "\n",
        "  Returns:\n",
        "    The interquartile range (IQR).\n",
        "  \"\"\"\n",
        "  if not numbers:\n",
        "    return None\n",
        "\n",
        "  numbers.sort()\n",
        "  n = len(numbers)\n",
        "\n",
        "  # Calculate the first quartile (Q1)\n",
        "  if n % 2 == 0:\n",
        "    q1_index = n // 2 - 1\n",
        "  else:\n",
        "    q1_index = n // 2\n",
        "  q1 = find_median(numbers[:q1_index + 1])\n",
        "\n",
        "  # Calculate the third quartile (Q3)\n",
        "  if n % 2 == 0:\n",
        "    q3_index = n // 2\n",
        "  else:\n",
        "    q3_index = n // 2 + 1\n",
        "  q3 = find_median(numbers[q3_index:])\n",
        "\n",
        "  # Calculate the IQR\n",
        "  iqr = q3 - q1\n",
        "  return iqr\n",
        "\n",
        "# Example usage:\n",
        "numbers = int_list2\n",
        "iqr = calculate_iqr(numbers)\n",
        "print(f\"Interquartile Range (IQR): {iqr}\")\n"
      ],
      "metadata": {
        "colab": {
          "base_uri": "https://localhost:8080/"
        },
        "id": "Bfn-NBQX2jfx",
        "outputId": "a1be9862-6ada-4b3a-ebc5-f9d183c4f585"
      },
      "execution_count": 24,
      "outputs": [
        {
          "output_type": "stream",
          "name": "stdout",
          "text": [
            "Interquartile Range (IQR): 49.5\n"
          ]
        }
      ]
    },
    {
      "cell_type": "code",
      "source": [
        "# (v) Build a program to calculate the coefficient of variation for a dataset.\n",
        "\n",
        "def calculate_coefficient_of_variation(numbers):\n",
        "  \"\"\"\n",
        "  Calculates the coefficient of variation for a dataset.\n",
        "\n",
        "  Args:\n",
        "    numbers: A list of numbers.\n",
        "\n",
        "  Returns:\n",
        "    The coefficient of variation.\n",
        "  \"\"\"\n",
        "  if not numbers:\n",
        "    return None\n",
        "\n",
        "  mean = calculate_mean(numbers)\n",
        "  if mean == 0:\n",
        "    return None  # Avoid division by zero\n",
        "\n",
        "  std_deviation = calculate_standard_deviation(numbers)\n",
        "  if std_deviation is None:\n",
        "    return None\n",
        "\n",
        "  coefficient_of_variation = (std_deviation / mean) * 100\n",
        "  return coefficient_of_variation\n",
        "\n",
        "# Example usage:\n",
        "numbers = int_list2\n",
        "cv = calculate_coefficient_of_variation(numbers)\n",
        "print(f\"Coefficient of Variation: {cv}\")\n"
      ],
      "metadata": {
        "colab": {
          "base_uri": "https://localhost:8080/"
        },
        "id": "k538yHJ62jiV",
        "outputId": "b1241f42-a3dc-41d4-ae34-cd8df99144ed"
      },
      "execution_count": 25,
      "outputs": [
        {
          "output_type": "stream",
          "name": "stdout",
          "text": [
            "Coefficient of Variation: 11.571870977626798\n"
          ]
        }
      ]
    },
    {
      "cell_type": "code",
      "source": [
        "# (vi) Write a Python function to find the mean absolute deviation (MAD) of a list of numbers.\n",
        "\n",
        "def calculate_mad(numbers):\n",
        "  \"\"\"\n",
        "  Calculates the mean absolute deviation (MAD) of a list of numbers.\n",
        "\n",
        "  Args:\n",
        "    numbers: A list of numbers.\n",
        "\n",
        "  Returns:\n",
        "    The mean absolute deviation (MAD).\n",
        "  \"\"\"\n",
        "  if not numbers:\n",
        "    return None\n",
        "\n",
        "  n = len(numbers)\n",
        "  mean = sum(numbers) / n\n",
        "  mad = sum([abs(x - mean) for x in numbers]) / n\n",
        "  return mad\n",
        "\n",
        "# Example usage:\n",
        "numbers = int_list2\n",
        "mad = calculate_mad(numbers)\n",
        "print(f\"Mean Absolute Deviation (MAD): {mad}\")\n"
      ],
      "metadata": {
        "colab": {
          "base_uri": "https://localhost:8080/"
        },
        "id": "JN4-xQGa2jlN",
        "outputId": "1aaea86e-99e6-41af-d9cc-63843a60aa58"
      },
      "execution_count": 26,
      "outputs": [
        {
          "output_type": "stream",
          "name": "stdout",
          "text": [
            "Mean Absolute Deviation (MAD): 25.179599999999816\n"
          ]
        }
      ]
    },
    {
      "cell_type": "code",
      "source": [
        "# (vii) Create a program to calculate the quartile deviation of a list of values.\n",
        "\n",
        "def calculate_quartile_deviation(numbers):\n",
        "  \"\"\"\n",
        "  Calculates the quartile deviation of a list of values.\n",
        "\n",
        "  Args:\n",
        "    numbers: A list of numbers.\n",
        "\n",
        "  Returns:\n",
        "    The quartile deviation.\n",
        "  \"\"\"\n",
        "  if not numbers:\n",
        "    return None\n",
        "\n",
        "  numbers.sort()\n",
        "  n = len(numbers)\n",
        "\n",
        "  # Calculate the first quartile (Q1)\n",
        "  if n % 2 == 0:\n",
        "    q1_index = n // 2 - 1\n",
        "  else:\n",
        "    q1_index = n // 2\n",
        "  q1 = find_median(numbers[:q1_index + 1])\n",
        "\n",
        "  # Calculate the third quartile (Q3)\n",
        "  if n % 2 == 0:\n",
        "    q3_index = n // 2\n",
        "  else:\n",
        "    q3_index = n // 2 + 1\n",
        "  q3 = find_median(numbers[q3_index:])\n",
        "\n",
        "  # Calculate the quartile deviation\n",
        "  quartile_deviation = (q3 - q1) / 2\n",
        "  return quartile_deviation\n",
        "\n",
        "# Example usage:\n",
        "numbers = int_list2\n",
        "quartile_deviation = calculate_quartile_deviation(numbers)\n",
        "print(f\"Quartile Deviation: {quartile_deviation}\")\n"
      ],
      "metadata": {
        "colab": {
          "base_uri": "https://localhost:8080/"
        },
        "id": "g2LWojP72jnw",
        "outputId": "3f21c85a-a2a6-46fb-9368-65fe8c43716e"
      },
      "execution_count": 27,
      "outputs": [
        {
          "output_type": "stream",
          "name": "stdout",
          "text": [
            "Quartile Deviation: 24.75\n"
          ]
        }
      ]
    },
    {
      "cell_type": "code",
      "source": [
        "# (viii) Implement a function to find the range-based coefficient of dispersion for a dataset.\n",
        "\n",
        "def calculate_range_based_coefficient_of_dispersion(numbers):\n",
        "  \"\"\"\n",
        "  Calculates the range-based coefficient of dispersion for a dataset.\n",
        "\n",
        "  Args:\n",
        "    numbers: A list of numbers.\n",
        "\n",
        "  Returns:\n",
        "    The range-based coefficient of dispersion.\n",
        "  \"\"\"\n",
        "  if not numbers:\n",
        "    return None\n",
        "\n",
        "  range_value = calculate_range(numbers)\n",
        "  if range_value == 0:\n",
        "    return 0  # Avoid division by zero\n",
        "\n",
        "  mean = calculate_mean(numbers)\n",
        "  range_based_coefficient = range_value / mean\n",
        "  return range_based_coefficient\n",
        "\n",
        "# Example usage:\n",
        "numbers = int_list2\n",
        "range_based_coefficient = calculate_range_based_coefficient_of_dispersion(numbers)\n",
        "print(f\"Range-Based Coefficient of Dispersion: {range_based_coefficient}\")\n"
      ],
      "metadata": {
        "colab": {
          "base_uri": "https://localhost:8080/"
        },
        "id": "HEQ6AJbK2jqo",
        "outputId": "dad597a2-b2c3-4774-897d-3e396459daa1"
      },
      "execution_count": 28,
      "outputs": [
        {
          "output_type": "stream",
          "name": "stdout",
          "text": [
            "Range-Based Coefficient of Dispersion: 0.40008001600320064\n"
          ]
        }
      ]
    },
    {
      "cell_type": "markdown",
      "source": [],
      "metadata": {
        "id": "kVzZDsrF3EES"
      }
    },
    {
      "cell_type": "code",
      "source": [
        "# 3)  Write a Python class representing a discrete random variable with methods to calculate its expected\n",
        "# value and variance.\n",
        "\n",
        "class DiscreteRandomVariable:\n",
        "    \"\"\"\n",
        "    Represents a discrete random variable.\n",
        "    \"\"\"\n",
        "\n",
        "    def __init__(self, probabilities):\n",
        "        \"\"\"\n",
        "        Initializes the discrete random variable with probabilities.\n",
        "\n",
        "        Args:\n",
        "            probabilities: A dictionary where keys are the values of the random variable\n",
        "                           and values are their corresponding probabilities.\n",
        "        \"\"\"\n",
        "        self.probabilities = probabilities\n",
        "\n",
        "    def expected_value(self):\n",
        "        \"\"\"\n",
        "        Calculates the expected value of the random variable.\n",
        "\n",
        "        Returns:\n",
        "            The expected value.\n",
        "        \"\"\"\n",
        "        expected_value = 0\n",
        "        for value, probability in self.probabilities.items():\n",
        "            expected_value += value * probability\n",
        "        return expected_value\n",
        "\n",
        "    def variance(self):\n",
        "        \"\"\"\n",
        "        Calculates the variance of the random variable.\n",
        "\n",
        "        Returns:\n",
        "            The variance.\n",
        "        \"\"\"\n",
        "        mean = self.expected_value()\n",
        "        variance = 0\n",
        "        for value, probability in self.probabilities.items():\n",
        "            variance += (value - mean) ** 2 * probability\n",
        "        return variance\n"
      ],
      "metadata": {
        "id": "eCWEonqp2jtS"
      },
      "execution_count": 29,
      "outputs": []
    },
    {
      "cell_type": "code",
      "source": [
        "# 4) Implement a program to simulate the rolling of a fair six-sided die and calculate the expected value and\n",
        "# variance of the outcomes.\n",
        "\n",
        "def standard_deviation(self):\n",
        "        \"\"\"\n",
        "        Calculates the standard deviation of the random variable.\n",
        "\n",
        "        Returns:\n",
        "            The standard deviation.\n",
        "        \"\"\"\n",
        "        return math.sqrt(self.variance())\n",
        "\n",
        "\n",
        "# Example usage:\n",
        "probabilities = {1: 1/6, 2: 1/6, 3: 1/6, 4: 1/6, 5: 1/6, 6: 1/6}\n",
        "die_roll = DiscreteRandomVariable(probabilities)\n",
        "expected_value = die_roll.expected_value()\n",
        "variance = die_roll.variance()\n",
        "print(f\"Expected value of the die roll: {expected_value}\")\n",
        "print(f\"Variance of the die roll: {variance}\")\n"
      ],
      "metadata": {
        "id": "upQu0lyX2jwE"
      },
      "execution_count": null,
      "outputs": []
    },
    {
      "cell_type": "code",
      "source": [
        "# 5) Create a Python function to generate random samples from a given probability distribution (e.g.,\n",
        "# binomial, Poisson) and calculate their mean and variance\n",
        "\n",
        "import random\n",
        "\n",
        "def generate_random_samples(distribution, params, n_samples):\n",
        "  \"\"\"\n",
        "  Generates random samples from a given probability distribution.\n",
        "\n",
        "  Args:\n",
        "    distribution: The probability distribution (e.g., 'binomial', 'poisson').\n",
        "    params: A dictionary containing the parameters for the distribution.\n",
        "    n_samples: The number of samples to generate.\n",
        "\n",
        "  Returns:\n",
        "    A list of random samples.\n",
        "  \"\"\"\n",
        "  samples = []\n",
        "  if distribution == 'binomial':\n",
        "    n = params['n']\n",
        "    p = params['p']\n",
        "    for _ in range(n_samples):\n",
        "      sample = random.choices([0, 1], weights=[1 - p, p], k=n)\n",
        "      samples.append(sum(sample))\n",
        "  elif distribution == 'poisson':\n",
        "    lam = params['lambda']\n",
        "    for _ in range(n_samples):\n",
        "      sample = random.poisson(lam)\n",
        "      samples.append(sample)\n",
        "  else:\n",
        "    raise ValueError(\"Invalid distribution type.\")\n",
        "  return samples\n",
        "\n",
        "def calculate_mean_and_variance(samples):\n",
        "  \"\"\"\n",
        "  Calculates the mean and variance of a list of samples.\n",
        "\n",
        "  Args:\n",
        "    samples: A list of samples.\n",
        "\n",
        "  Returns:\n",
        "    A tuple containing the mean and variance.\n",
        "  \"\"\"\n",
        "  n = len(samples)\n",
        "  mean = sum(samples) / n\n",
        "  variance = sum([(x - mean) ** 2 for x in samples]) / n\n",
        "  return mean, variance\n",
        "\n",
        "# Example usage:\n",
        "# Generate 1000 samples from a binomial distribution with n=10 and p=0.5\n",
        "binomial_params = {'n': 10, 'p': 0.5}\n",
        "binomial_samples = generate_random_samples('binomial', binomial_params, 1000)\n",
        "binomial_mean, binomial_variance = calculate_mean_and_variance(binomial_samples)\n",
        "print(f\"Binomial Mean: {binomial_mean}\")\n",
        "print(f\"Binomial Variance: {binomial_variance}\")\n",
        "\n",
        "# Generate 1000 samples from a Poisson distribution with lambda=5\n",
        "poisson_params = {'lambda': 5}\n",
        "poisson_samples = generate_random_samples('poisson', poisson_params, 1000)\n",
        "poisson_mean, poisson_variance = calculate_mean_and_variance(poisson_samples)\n",
        "print(f\"Poisson Mean: {poisson_mean}\")\n",
        "print(f\"Poisson Variance: {poisson_variance}\")\n"
      ],
      "metadata": {
        "id": "V1PPpVce2jy0"
      },
      "execution_count": null,
      "outputs": []
    },
    {
      "cell_type": "code",
      "source": [
        "# 6) Write a Python script to generate random numbers from a Gaussian (normal) distribution and compute\n",
        "# the mean, variance, and standard deviation of the samples.\n",
        "\n",
        "import random\n",
        "\n",
        "def generate_gaussian_samples(mean, std_dev, n_samples):\n",
        "  \"\"\"\n",
        "  Generates random numbers from a Gaussian (normal) distribution.\n",
        "\n",
        "  Args:\n",
        "    mean: The mean of the distribution.\n",
        "    std_dev: The standard deviation of the distribution.\n",
        "    n_samples: The number of samples to generate.\n",
        "\n",
        "  Returns:\n",
        "    A list of random samples.\n",
        "  \"\"\"\n",
        "  samples = [random.gauss(mean, std_dev) for _ in range(n_samples)]\n",
        "  return samples\n",
        "\n",
        "def calculate_mean_variance_std_dev(samples):\n",
        "  \"\"\"\n",
        "  Computes the mean, variance, and standard deviation of a list of samples.\n",
        "\n",
        "  Args:\n",
        "    samples: A list of numbers.\n",
        "\n",
        "  Returns:\n",
        "    A tuple containing the mean, variance, and standard deviation.\n",
        "  \"\"\"\n",
        "  n = len(samples)\n",
        "  mean = sum(samples) / n\n",
        "  variance = sum([(x - mean) ** 2 for x in samples]) / n\n",
        "  std_dev = variance ** 0.5\n",
        "  return mean, variance, std_dev\n",
        "\n",
        "# Example usage:\n",
        "mean = 5\n",
        "std_dev = 2\n",
        "n_samples = 1000\n",
        "samples = generate_gaussian_samples(mean, std_dev, n_samples)\n",
        "mean, variance, std_dev = calculate_mean_variance_std_dev(samples)\n",
        "print(f\"Mean: {mean}\")\n",
        "print(f\"Variance: {variance}\")\n",
        "print(f\"Standard Deviation: {std_dev}\")\n"
      ],
      "metadata": {
        "id": "ywOl0x3V2j1N"
      },
      "execution_count": null,
      "outputs": []
    },
    {
      "cell_type": "markdown",
      "source": [
        "7) Use seaborn library to load tips dataset. Find the following from the dataset for the columns total_bill\n",
        "and tip`:"
      ],
      "metadata": {
        "id": "A6L2bzxC3yqr"
      }
    },
    {
      "cell_type": "code",
      "source": [
        "# load tips dataset from seaborn library\n",
        "\n",
        "import seaborn as sns\n",
        "\n",
        "tips = sns.load_dataset('tips')\n"
      ],
      "metadata": {
        "id": "_NlIHbXd2j3e"
      },
      "execution_count": 30,
      "outputs": []
    },
    {
      "cell_type": "code",
      "source": [
        "# (1) Write a Python function that calculates their skewness.\n",
        "\n",
        "from scipy.stats import skew\n",
        "\n",
        "def calculate_skewness(data):\n",
        "  \"\"\"\n",
        "  Calculates the skewness of a dataset.\n",
        "\n",
        "  Args:\n",
        "    data: A list or array of numerical values.\n",
        "\n",
        "  Returns:\n",
        "    The skewness of the data.\n",
        "  \"\"\"\n",
        "  return skew(data)\n",
        "\n",
        "# Calculate skewness for 'total_bill' and 'tip' columns\n",
        "total_bill_skewness = calculate_skewness(tips['total_bill'])\n",
        "tip_skewness = calculate_skewness(tips['tip'])\n",
        "\n",
        "print(f\"Skewness of total_bill: {total_bill_skewness}\")\n",
        "print(f\"Skewness of tip: {tip_skewness}\")\n"
      ],
      "metadata": {
        "id": "H7XE5dtA2j5n"
      },
      "execution_count": 30,
      "outputs": []
    },
    {
      "cell_type": "code",
      "source": [
        "# (2) Create a program that determines whether the columns exhibit positive skewness, negative skewness, or is\n",
        "# approximately symmetric\n",
        "\n",
        "def describe_skewness(skewness):\n",
        "  \"\"\"\n",
        "  Describes the skewness of a dataset based on the skewness value.\n",
        "\n",
        "  Args:\n",
        "    skewness: The skewness value.\n",
        "\n",
        "  Returns:\n",
        "    A string describing the skewness.\n",
        "  \"\"\"\n",
        "  if skewness > 0:\n",
        "    return \"Positive skewness\"\n",
        "  elif skewness < 0:\n",
        "    return \"Negative skewness\"\n",
        "  else:\n",
        "    return \"Approximately symmetric\"\n",
        "\n",
        "# Describe the skewness of 'total_bill' and 'tip'\n",
        "total_bill_skewness_description = describe_skewness(total_bill_skewness)\n",
        "tip_skewness_description = describe_skewness(tip_skewness)\n",
        "\n",
        "print(f\"total_bill exhibits: {total_bill_skewness_description}\")\n",
        "print(f\"tip exhibits: {tip_skewness_description}\")\n"
      ],
      "metadata": {
        "id": "xyWqe4Lg2j-9"
      },
      "execution_count": null,
      "outputs": []
    },
    {
      "cell_type": "code",
      "source": [
        "# (3) Write a function that calculates the covariance between two columns.\n",
        "\n",
        "def calculate_covariance(column1, column2):\n",
        "  \"\"\"\n",
        "  Calculates the covariance between two columns.\n",
        "\n",
        "  Args:\n",
        "    column1: The first column of data.\n",
        "    column2: The second column of data.\n",
        "\n",
        "  Returns:\n",
        "    The covariance between the two columns.\n",
        "  \"\"\"\n",
        "  if len(column1) != len(column2):\n",
        "    return None\n",
        "\n",
        "  n = len(column1)\n",
        "  mean1 = sum(column1) / n\n",
        "  mean2 = sum(column2) / n\n",
        "\n",
        "  covariance = sum([(x - mean1) * (y - mean2) for x, y in zip(column1, column2)]) / n\n",
        "  return covariance\n"
      ],
      "metadata": {
        "id": "VwUZduWQuEhU"
      },
      "execution_count": null,
      "outputs": []
    },
    {
      "cell_type": "code",
      "source": [
        "# (4) Implement a Python program that calculates the Pearson correlation coefficient between two columns.\n",
        "\n",
        "def calculate_pearson_correlation(column1, column2):\n",
        "  \"\"\"\n",
        "  Calculates the Pearson correlation coefficient between two columns.\n",
        "\n",
        "  Args:\n",
        "    column1: The first column of data.\n",
        "    column2: The second column of data.\n",
        "\n",
        "  Returns:\n",
        "    The Pearson correlation coefficient.\n",
        "  \"\"\"\n",
        "  if len(column1) != len(column2):\n",
        "    return None\n",
        "\n",
        "  covariance = calculate_covariance(column1, column2)\n",
        "  std_dev1 = calculate_standard_deviation(column1)\n",
        "  std_dev2 = calculate_standard_deviation(column2)\n",
        "\n",
        "  if std_dev1 == 0 or std_dev2 == 0:\n",
        "    return 0  # Avoid division by zero\n",
        "\n",
        "  pearson_correlation = covariance / (std_dev1 * std_dev2)\n",
        "  return pearson_correlation\n",
        "\n",
        "# Calculate Pearson correlation for 'total_bill' and 'tip' columns\n",
        "total_bill_tip_correlation = calculate_pearson_correlation(tips['total_bill'], tips['tip'])\n",
        "\n",
        "print(f\"Pearson correlation between total_bill and tip: {total_bill_tip_correlation}\")\n"
      ],
      "metadata": {
        "id": "TTvYbrCLuEjf"
      },
      "execution_count": null,
      "outputs": []
    },
    {
      "cell_type": "code",
      "source": [
        "# (v) Write a script to visualize the correlation between two specific columns in a Pandas DataFrame using\n",
        "# scatter plots.\n",
        "\n",
        "import matplotlib.pyplot as plt\n",
        "\n",
        "def visualize_correlation(df, column1, column2):\n",
        "  \"\"\"\n",
        "  Visualizes the correlation between two columns in a Pandas DataFrame using a scatter plot.\n",
        "\n",
        "  Args:\n",
        "    df: The Pandas DataFrame.\n",
        "    column1: The name of the first column.\n",
        "    column2: The name of the second column.\n",
        "  \"\"\"\n",
        "  plt.scatter(df[column1], df[column2])\n",
        "  plt.xlabel(column1)\n",
        "  plt.ylabel(column2)\n",
        "  plt.title(f'Correlation between {column1} and {column2}')\n",
        "  plt.show()\n",
        "\n",
        "# Example usage:\n",
        "visualize_correlation(tips, 'total_bill', 'tip')\n"
      ],
      "metadata": {
        "id": "Uy--MOgu4u5L"
      },
      "execution_count": null,
      "outputs": []
    },
    {
      "cell_type": "code",
      "source": [],
      "metadata": {
        "id": "AJ5rHJi_5KA8"
      },
      "execution_count": null,
      "outputs": []
    },
    {
      "cell_type": "code",
      "source": [
        "# 8) Write a Python function to calculate the probability density function (PDF) of a continuous random\n",
        "# variable for a given normal distribution.\n",
        "\n",
        "import math\n",
        "\n",
        "def normal_pdf(x, mean, std_dev):\n",
        "  \"\"\"\n",
        "  Calculates the probability density function (PDF) of a normal distribution.\n",
        "\n",
        "  Args:\n",
        "    x: The value at which to evaluate the PDF.\n",
        "    mean: The mean of the normal distribution.\n",
        "    std_dev: The standard deviation of the normal distribution.\n",
        "\n",
        "  Returns:\n",
        "    The PDF value at x.\n",
        "  \"\"\"\n",
        "  exponent = -0.5 * ((x - mean) / std_dev) ** 2\n",
        "  pdf = (1 / (std_dev * math.sqrt(2 * math.pi))) * math.exp(exponent)\n",
        "  return pdf\n"
      ],
      "metadata": {
        "id": "MXpWACOM5KDx"
      },
      "execution_count": null,
      "outputs": []
    },
    {
      "cell_type": "code",
      "source": [
        "# 9) Create a program to calculate the cumulative distribution function (CDF) of exponential distribution.\n",
        "\n",
        "import math\n",
        "\n",
        "def exponential_cdf(x, rate):\n",
        "  \"\"\"\n",
        "  Calculates the cumulative distribution function (CDF) of the exponential distribution.\n",
        "\n",
        "  Args:\n",
        "    x: The value at which to evaluate the CDF.\n",
        "    rate: The rate parameter of the exponential distribution.\n",
        "\n",
        "  Returns:\n",
        "    The CDF value at x.\n",
        "  \"\"\"\n",
        "  if x < 0:\n",
        "    return 0\n",
        "  else:\n",
        "    return 1 - math.exp(-rate * x)\n",
        "\n",
        "# Example usage:\n",
        "x = 2\n",
        "rate = 0.5\n",
        "cdf_value = exponential_cdf(x, rate)\n",
        "print(f\"CDF of exponential distribution at x = {x} with rate = {rate}: {cdf_value}\")\n"
      ],
      "metadata": {
        "id": "Jox0yNXg5KGg"
      },
      "execution_count": null,
      "outputs": []
    },
    {
      "cell_type": "code",
      "source": [
        "# 10) Write a Python function to calculate the probability mass function (PMF) of Poisson distribution\n",
        "\n",
        "import math\n",
        "\n",
        "def poisson_pmf(k, lam):\n",
        "  \"\"\"\n",
        "  Calculates the probability mass function (PMF) of the Poisson distribution.\n",
        "\n",
        "  Args:\n",
        "    k: The number of events.\n",
        "    lam: The average number of events (lambda).\n",
        "\n",
        "  Returns:\n",
        "    The PMF value at k.\n",
        "  \"\"\"\n",
        "  if k < 0:\n",
        "    return 0\n",
        "  else:\n",
        "    return (math.exp(-lam) * (lam ** k)) / math.factorial(k)\n"
      ],
      "metadata": {
        "id": "9MA9th1X5KJC"
      },
      "execution_count": 46,
      "outputs": []
    },
    {
      "cell_type": "code",
      "source": [
        "# 11. A company wants to test if a new website layout leads to a higher conversion rate (percentage of visitors\n",
        "# who make a purchase). They collect data from the old and new layouts to compare.\n",
        "# To generate the data use the following command:\n",
        "\n",
        "# ```python\n",
        "# import numpy as np\n",
        "# # 50 purchases out of 1000 visitors\n",
        "# old_layout = np.array([1] * 50 + [0] * 950)\n",
        "# # 70 purchases out of 1000 visitors\n",
        "# new_layout = np.array([1] * 70 + [0] * 930)\n",
        "#   ```\n",
        "# Apply z-test to find which layout is successful\n",
        "\n",
        "import numpy as np\n",
        "from statsmodels.stats.proportion import proportions_ztest\n",
        "\n",
        "# Generate data\n",
        "old_layout = np.array([1] * 50 + [0] * 950)  # 50 purchases out of 1000 visitors\n",
        "new_layout = np.array([1] * 70 + [0] * 930)  # 70 purchases out of 1000 visitors\n",
        "\n",
        "# Count successes (purchases) and total trials (visitors) for both layouts\n",
        "successes = np.array([old_layout.sum(), new_layout.sum()])\n",
        "n_obs = np.array([len(old_layout), len(new_layout)])\n",
        "\n",
        "# Perform Z-test\n",
        "z_stat, p_value = proportions_ztest(successes, n_obs, alternative='larger')\n",
        "\n",
        "# Output the results\n",
        "print(f\"Z-Statistic: {z_stat}\")\n",
        "print(f\"P-value: {p_value}\")\n",
        "\n",
        "# Conclusion\n",
        "alpha = 0.05\n",
        "if p_value < alpha:\n",
        "    print(\"\\nReject the null hypothesis. The new layout leads to a significantly higher conversion rate.\")\n",
        "else:\n",
        "    print(\"\\nFail to reject the null hypothesis. There is no significant difference in conversion rates between the old and new layouts.\")\n"
      ],
      "metadata": {
        "colab": {
          "base_uri": "https://localhost:8080/"
        },
        "id": "5_nJeDh85KLr",
        "outputId": "6648299f-1c36-4a4f-ed81-a5e98b4c89c3"
      },
      "execution_count": 44,
      "outputs": [
        {
          "output_type": "stream",
          "name": "stdout",
          "text": [
            "Z-Statistic: -1.883108942886774\n",
            "P-value: 0.9701571972337869\n",
            "\n",
            "Fail to reject the null hypothesis. There is no significant difference in conversion rates between the old and new layouts.\n"
          ]
        }
      ]
    },
    {
      "cell_type": "code",
      "source": [],
      "metadata": {
        "id": "AKWeM7125KON"
      },
      "execution_count": null,
      "outputs": []
    },
    {
      "cell_type": "code",
      "source": [
        "# 12. A tutoring service claims that its program improves students' exam scores. A sample of students who\n",
        "# participated in the program was taken, and their scores before and after the program were recorded.\n",
        "\n",
        "# Use the below code to generate samples of respective arrays of marks:\n",
        "# ```python\n",
        "# before_program = np.array([75, 80, 85, 70, 90, 78, 92, 88, 82, 87])\n",
        "# after_program = np.array([80, 85, 90, 80, 92, 80, 95, 90, 85, 88])\n",
        "# ```\n",
        "# Use z-test to find if the claims made by tutor are true or false.\n",
        "\n",
        "\n",
        "\n",
        "\n",
        "import numpy as np\n",
        "from scipy import stats\n",
        "\n",
        "# Generate data\n",
        "before_program = np.array([75, 80, 85, 70, 90, 78, 92, 88, 82, 87])\n",
        "after_program = np.array([80, 85, 90, 80, 92, 80, 95, 90, 85, 88])\n",
        "\n",
        "# Calculate the differences\n",
        "differences = after_program - before_program\n",
        "\n",
        "# Perform a paired t-test\n",
        "t_stat, p_value = stats.ttest_rel(after_program, before_program)\n",
        "\n",
        "# Output the results\n",
        "print(f\"T-Statistic: {t_stat}\")\n",
        "print(f\"P-value: {p_value}\")\n",
        "\n",
        "# Conclusion\n",
        "alpha = 0.05\n",
        "if p_value < alpha:\n",
        "    print(\"\\nReject the null hypothesis. The tutoring program significantly improves exam scores.\")\n",
        "else:\n",
        "    print(\"\\nFail to reject the null hypothesis. The tutoring program does not significantly improve exam scores.\")\n"
      ],
      "metadata": {
        "colab": {
          "base_uri": "https://localhost:8080/"
        },
        "id": "tKRmhWtx5KQ2",
        "outputId": "a6fa3af3-f396-48c8-e36b-c9cd754c31e5"
      },
      "execution_count": 45,
      "outputs": [
        {
          "output_type": "stream",
          "name": "stdout",
          "text": [
            "T-Statistic: 4.593190894944668\n",
            "P-value: 0.0013030932910086035\n",
            "\n",
            "Reject the null hypothesis. The tutoring program significantly improves exam scores.\n"
          ]
        }
      ]
    },
    {
      "cell_type": "code",
      "source": [
        "# 13. A pharmaceutical company wants to determine if a new drug is effective in reducing blood pressure. They\n",
        "# conduct a study and record blood pressure measurements before and after administering the drug.\n",
        "\n",
        "\n",
        "# Use the below code to generate samples of respective arrays of blood pressure:\n",
        "\n",
        "\n",
        "# ```python\n",
        "\n",
        "# before_drug = np.array([145, 150, 140, 135, 155, 160, 152, 148, 130, 138])\n",
        "\n",
        "# after_drug = np.array([130, 140, 132, 128, 145, 148, 138, 136, 125, 130])\n",
        "\n",
        "#   ```\n",
        "\n",
        "\n",
        "# Implement z-test to find if the drug really works or <ot.\n",
        "\n",
        "import numpy as np\n",
        "import scipy.stats as stats\n",
        "\n",
        "# Blood pressure samples\n",
        "before_drug = np.array([145, 150, 140, 135, 155, 160, 152, 148, 130, 138])\n",
        "after_drug = np.array([130, 140, 132, 128, 145, 148, 138, 136, 125, 130])\n",
        "\n",
        "# Calculate the differences\n",
        "differences = before_drug - after_drug\n",
        "\n",
        "# Mean and standard deviation of the differences\n",
        "mean_diff = np.mean(differences)\n",
        "std_diff = np.std(differences, ddof=1)  # Use ddof=1 for sample standard deviation\n",
        "n = len(differences)\n",
        "\n",
        "# Calculate the z-test statistic\n",
        "z_score = mean_diff / (std_diff / np.sqrt(n))\n",
        "\n",
        "# Calculate the p-value (one-tailed test, as we're testing for reduction)\n",
        "p_value = 1 - stats.norm.cdf(z_score)\n",
        "\n",
        "# Output the results\n",
        "print(f\"Mean difference: {mean_diff}\")\n",
        "print(f\"Z-score: {z_score}\")\n",
        "print(f\"P-value: {p_value}\")\n",
        "\n",
        "# Conclusion\n",
        "alpha = 0.05\n",
        "if p_value < alpha:\n",
        "    print(\"Reject the null hypothesis. The drug is effective in reducing blood pressure.\")\n",
        "else:\n",
        "    print(\"Fail to reject the null hypothesis. The drug is not effective.\")\n"
      ],
      "metadata": {
        "colab": {
          "base_uri": "https://localhost:8080/"
        },
        "id": "ITasBOLx5KTg",
        "outputId": "ee9398b9-e24d-4634-c81b-f98834d41128"
      },
      "execution_count": 31,
      "outputs": [
        {
          "output_type": "stream",
          "name": "stdout",
          "text": [
            "Mean difference: 10.1\n",
            "Z-score: 10.049875621120888\n",
            "P-value: 0.0\n",
            "Reject the null hypothesis. The drug is effective in reducing blood pressure.\n"
          ]
        }
      ]
    },
    {
      "cell_type": "code",
      "source": [
        "# 14. A customer service department claims that their average response time is less than 5 minutes. A sample\n",
        "# of recent customer interactions was taken, and the response times were recorded.\n",
        "\n",
        "\n",
        "# Implement the below code to generate the array of response time:\n",
        "\n",
        "# ```python\n",
        "\n",
        "# response_times = np.array([4.3, 3.8, 5.1, 4.9, 4.7, 4.2, 5.2, 4.5, 4.6, 4.4])\n",
        "\n",
        "# ```\n",
        "\n",
        "# Implement z-test to find the claims made by customer service department are true or false\n",
        "\n",
        "\n",
        "\n",
        "import numpy as np\n",
        "import scipy.stats as stats\n",
        "\n",
        "# Sample of response times\n",
        "response_times = np.array([4.3, 3.8, 5.1, 4.9, 4.7, 4.2, 5.2, 4.5, 4.6, 4.4])\n",
        "\n",
        "# Known population mean (claim)\n",
        "population_mean = 5\n",
        "\n",
        "# Sample statistics\n",
        "sample_mean = np.mean(response_times)\n",
        "sample_std = np.std(response_times, ddof=1)  # Sample standard deviation\n",
        "n = len(response_times)\n",
        "\n",
        "# Z-test statistic\n",
        "z_score = (sample_mean - population_mean) / (sample_std / np.sqrt(n))\n",
        "\n",
        "# Calculate the p-value for one-tailed test\n",
        "p_value = stats.norm.cdf(z_score)\n",
        "\n",
        "# Output the results\n",
        "print(f\"Sample mean: {sample_mean}\")\n",
        "print(f\"Z-score: {z_score}\")\n",
        "print(f\"P-value: {p_value}\")\n",
        "\n",
        "# Conclusion\n",
        "alpha = 0.05\n",
        "if p_value < alpha:\n",
        "    print(\"Reject the null hypothesis. The claim is true: the average response time is less than 5 minutes.\")\n",
        "else:\n",
        "    print(\"Fail to reject the null hypothesis. The claim is false: the average response time is not less than 5 minutes.\")\n"
      ],
      "metadata": {
        "colab": {
          "base_uri": "https://localhost:8080/"
        },
        "id": "O99gTGKY5KWE",
        "outputId": "f8e0ff7f-ce5f-435b-eb69-e3ad50d70688"
      },
      "execution_count": 42,
      "outputs": [
        {
          "output_type": "stream",
          "name": "stdout",
          "text": [
            "Sample mean: 4.57\n",
            "Z-score: -3.184457226042963\n",
            "P-value: 0.0007251287113068958\n",
            "Reject the null hypothesis. The claim is true: the average response time is less than 5 minutes.\n"
          ]
        }
      ]
    },
    {
      "cell_type": "code",
      "source": [
        "#\n",
        "# 15. A company is testing two different website layouts to see which one leads to higher click-through rates.\n",
        "# Write a Python function to perform an A/B test analysis, including calculating the t-statistic, degrees of\n",
        "# freedom, and p-value.\n",
        "\n",
        "\n",
        "# Use the followi3g data:\n",
        "\n",
        "# ```python\n",
        "\n",
        "# layout_a_clicks = [28, 32, 33, 29, 31, 34, 30, 35, 36, 37]\n",
        "\n",
        "# layout_b_clicks = [40, 41, 38, 42, 39, 44, 43, 41, 45, 47]\n",
        "\n",
        "\n",
        "import numpy as np\n",
        "from scipy import stats\n",
        "\n",
        "# Click-through rates for layout A and layout B\n",
        "layout_a_clicks = [28, 32, 33, 29, 31, 34, 30, 35, 36, 37]\n",
        "layout_b_clicks = [40, 41, 38, 42, 39, 44, 43, 41, 45, 47]\n",
        "\n",
        "# Sample statistics\n",
        "mean_a = np.mean(layout_a_clicks)\n",
        "mean_b = np.mean(layout_b_clicks)\n",
        "std_a = np.std(layout_a_clicks, ddof=1)  # Sample standard deviation\n",
        "std_b = np.std(layout_b_clicks, ddof=1)\n",
        "n_a = len(layout_a_clicks)\n",
        "n_b = len(layout_b_clicks)\n",
        "\n",
        "# Pooled standard deviation\n",
        "pooled_std = np.sqrt(((n_a - 1) * std_a**2 + (n_b - 1) * std_b**2) / (n_a + n_b - 2))\n",
        "\n",
        "# T-statistic\n",
        "t_statistic = (mean_a - mean_b) / (pooled_std * np.sqrt(1/n_a + 1/n_b))\n",
        "\n",
        "# Degrees of freedom\n",
        "df = n_a + n_b - 2\n",
        "\n",
        "# P-value (two-tailed test)\n",
        "p_value = stats.t.sf(np.abs(t_statistic), df=df) * 2  # Two-tailed test\n",
        "\n",
        "# Output the results\n",
        "print(f\"Mean of Layout A: {mean_a}\")\n",
        "print(f\"Mean of Layout B: {mean_b}\")\n",
        "print(f\"T-statistic: {t_statistic}\")\n",
        "print(f\"Degrees of Freedom: {df}\")\n",
        "print(f\"P-value: {p_value}\")\n",
        "\n",
        "# Conclusion\n",
        "alpha = 0.05\n",
        "if p_value < alpha:\n",
        "    print(\"Reject the null hypothesis. There is a significant difference in click-through rates.\")\n",
        "else:\n",
        "    print(\"Fail to reject the null hypothesis. There is no significant difference in click-through rates.\")\n"
      ],
      "metadata": {
        "colab": {
          "base_uri": "https://localhost:8080/"
        },
        "id": "ynRCEU0d5KYa",
        "outputId": "eafd2498-78f6-49c5-fe00-c64c294241b5"
      },
      "execution_count": 41,
      "outputs": [
        {
          "output_type": "stream",
          "name": "stdout",
          "text": [
            "Mean of Layout A: 32.5\n",
            "Mean of Layout B: 42.0\n",
            "T-statistic: -7.298102156175071\n",
            "Degrees of Freedom: 18\n",
            "P-value: 8.833437608301987e-07\n",
            "Reject the null hypothesis. There is a significant difference in click-through rates.\n"
          ]
        }
      ]
    },
    {
      "cell_type": "code",
      "source": [
        "# 16. A pharmaceutical company wants to determine if a new drug is more effective than an existing drug in\n",
        "# reducing cholesterol levels. Create a program to analyze the clinical trial data and calculate the tstatistic and p-value for the treatment effect.\n",
        "\n",
        "\n",
        "# Use the following data of cholestrol level:\n",
        "\n",
        "# ```python\n",
        "\n",
        "# existing_drug_levels = [180, 182, 175, 185, 178, 176, 172, 184, 179, 183]\n",
        "\n",
        "# new_drug_levels = [170, 172, 165, 168, 175, 173, 170, 178, 172, 176]\n",
        "\n",
        "import numpy as np\n",
        "from scipy import stats\n",
        "\n",
        "# Cholesterol levels for existing and new drugs\n",
        "existing_drug_levels = [180, 182, 175, 185, 178, 176, 172, 184, 179, 183]\n",
        "new_drug_levels = [170, 172, 165, 168, 175, 173, 170, 178, 172, 176]\n",
        "\n",
        "# Sample statistics\n",
        "mean_existing = np.mean(existing_drug_levels)\n",
        "mean_new = np.mean(new_drug_levels)\n",
        "std_existing = np.std(existing_drug_levels, ddof=1)  # Sample standard deviation\n",
        "std_new = np.std(new_drug_levels, ddof=1)\n",
        "n_existing = len(existing_drug_levels)\n",
        "n_new = len(new_drug_levels)\n",
        "\n",
        "# Pooled standard deviation\n",
        "pooled_std = np.sqrt(((n_existing - 1) * std_existing**2 + (n_new - 1) * std_new**2) / (n_existing + n_new - 2))\n",
        "\n",
        "# T-statistic\n",
        "t_statistic = (mean_existing - mean_new) / (pooled_std * np.sqrt(1/n_existing + 1/n_new))\n",
        "\n",
        "# Degrees of freedom\n",
        "df = n_existing + n_new - 2\n",
        "\n",
        "# P-value (one-tailed test since we're checking if the new drug is better, i.e., lowers cholesterol more)\n",
        "p_value = stats.t.sf(np.abs(t_statistic), df=df)\n",
        "\n",
        "# Output the results\n",
        "print(f\"Mean of existing drug: {mean_existing}\")\n",
        "print(f\"Mean of new drug: {mean_new}\")\n",
        "print(f\"T-statistic: {t_statistic}\")\n",
        "print(f\"Degrees of Freedom: {df}\")\n",
        "print(f\"P-value: {p_value}\")\n",
        "\n",
        "# Conclusion\n",
        "alpha = 0.05\n",
        "if p_value < alpha:\n",
        "    print(\"Reject the null hypothesis. The new drug is significantly more effective in reducing cholesterol levels.\")\n",
        "else:\n",
        "    print(\"Fail to reject the null hypothesis. There is no significant difference in cholesterol reduction between the two drugs.\")\n"
      ],
      "metadata": {
        "colab": {
          "base_uri": "https://localhost:8080/"
        },
        "id": "NL41l2Wt5KbP",
        "outputId": "47191cc7-d259-4aaa-bca9-e649c953644e"
      },
      "execution_count": 32,
      "outputs": [
        {
          "output_type": "stream",
          "name": "stdout",
          "text": [
            "Mean of existing drug: 179.4\n",
            "Mean of new drug: 171.9\n",
            "T-statistic: 4.14048098620866\n",
            "Degrees of Freedom: 18\n",
            "P-value: 0.00030716992211862526\n",
            "Reject the null hypothesis. The new drug is significantly more effective in reducing cholesterol levels.\n"
          ]
        }
      ]
    },
    {
      "cell_type": "code",
      "source": [
        "# 17. A school district introduces an educational intervention program to improve math scores. Write a Python\n",
        "# function to analyze pre- and post-intervention test scores, calculating the t-statistic and p-value to\n",
        "# determine if the intervention had a significant impact.\n",
        "\n",
        "\n",
        "# Use the followi3g data of test score:\n",
        "\n",
        "\n",
        "#   ```python\n",
        "\n",
        "#   pre_i3terve3tio3_scores = [80, 85, 90, 75, 88, 82, 92, 78, 85, 87]\n",
        "\n",
        "#   post_i3terve3tio3_scores = [90, 92, 88, 92, 95, 91, 96, 93, 89, 93]\n",
        "\n",
        "#   ```\n",
        "\n",
        "\n",
        "import numpy as np\n",
        "from scipy import stats\n",
        "\n",
        "# Pre- and post-intervention scores\n",
        "pre_intervention_scores = [80, 85, 90, 75, 88, 82, 92, 78, 85, 87]\n",
        "post_intervention_scores = [90, 92, 88, 92, 95, 91, 96, 93, 89, 93]\n",
        "\n",
        "# Calculate the differences\n",
        "differences = np.array(post_intervention_scores) - np.array(pre_intervention_scores)\n",
        "\n",
        "# Calculate statistics\n",
        "mean_diff = np.mean(differences)\n",
        "std_diff = np.std(differences, ddof=1)  # Sample standard deviation\n",
        "n = len(differences)\n",
        "\n",
        "# Calculate t-statistic\n",
        "t_statistic = mean_diff / (std_diff / np.sqrt(n))\n",
        "\n",
        "# Degrees of freedom\n",
        "df = n - 1\n",
        "\n",
        "# Calculate the p-value (one-tailed test as we're checking for improvement)\n",
        "p_value = stats.t.sf(np.abs(t_statistic), df=df)\n",
        "\n",
        "# Output the results\n",
        "print(f\"Mean difference: {mean_diff}\")\n",
        "print(f\"T-statistic: {t_statistic}\")\n",
        "print(f\"Degrees of Freedom: {df}\")\n",
        "print(f\"P-value: {p_value}\")\n",
        "\n",
        "# Conclusion\n",
        "alpha = 0.05\n",
        "if p_value < alpha:\n",
        "    print(\"Reject the null hypothesis. The intervention significantly improved math scores.\")\n",
        "else:\n",
        "    print(\"Fail to reject the null hypothesis. The intervention did not have a significant impact on math scores.\")\n"
      ],
      "metadata": {
        "colab": {
          "base_uri": "https://localhost:8080/"
        },
        "id": "QD46ZrD55Kd3",
        "outputId": "3c7c0140-11da-41d1-a875-e0ca6593562f"
      },
      "execution_count": 33,
      "outputs": [
        {
          "output_type": "stream",
          "name": "stdout",
          "text": [
            "Mean difference: 7.7\n",
            "T-statistic: 4.428408839657611\n",
            "Degrees of Freedom: 9\n",
            "P-value: 0.0008254774082897746\n",
            "Reject the null hypothesis. The intervention significantly improved math scores.\n"
          ]
        }
      ]
    },
    {
      "cell_type": "code",
      "source": [
        "# 18. An HR department wants to investigate if there's a gender-based salary gap within the company. Develop\n",
        "# a program to analyze salary data, calculate the t-statistic, and determine if there's a statistically\n",
        "# significant difference between the average salaries of male and female employees.\n",
        "\n",
        "\n",
        "# Use the below code to generate synthetic dataY\n",
        "# ```python\n",
        "\n",
        "# # Generate synthetic salary data for male and female employees\n",
        "\n",
        "# np.random.seed(0)  # For reproducibility\n",
        "\n",
        "# male_salaries = np.random.normal(loc=50000, scale=10000, size=20)\n",
        "\n",
        "# female_salaries = np.random.normal(loc=55000, scale=9000, size=20)\n",
        "\n",
        "#   ```\n",
        "\n",
        "\n",
        "import numpy as np\n",
        "from scipy import stats\n",
        "\n",
        "# Generate synthetic salary data for male and female employees\n",
        "np.random.seed(0)  # For reproducibility\n",
        "male_salaries = np.random.normal(loc=50000, scale=10000, size=20)\n",
        "female_salaries = np.random.normal(loc=55000, scale=9000, size=20)\n",
        "\n",
        "# Perform two-sample t-test\n",
        "t_statistic, p_value = stats.ttest_ind(male_salaries, female_salaries, equal_var=False)  # Welch's t-test\n",
        "\n",
        "# Output the results\n",
        "print(f\"T-statistic: {t_statistic}\")\n",
        "print(f\"P-value: {p_value}\")\n",
        "\n",
        "# Conclusion\n",
        "alpha = 0.05\n",
        "if p_value < alpha:\n",
        "    print(\"Reject the null hypothesis. There is a significant difference between male and female salaries.\")\n",
        "else:\n",
        "    print(\"Fail to reject the null hypothesis. No significant difference between male and female salaries.\")\n"
      ],
      "metadata": {
        "colab": {
          "base_uri": "https://localhost:8080/"
        },
        "id": "aN60yYbe5Kgo",
        "outputId": "b7b58279-5245-4b2a-b823-31091fcfb4c2"
      },
      "execution_count": 34,
      "outputs": [
        {
          "output_type": "stream",
          "name": "stdout",
          "text": [
            "T-statistic: 0.061142089696313844\n",
            "P-value: 0.9515826849267927\n",
            "Fail to reject the null hypothesis. No significant difference between male and female salaries.\n"
          ]
        }
      ]
    },
    {
      "cell_type": "code",
      "source": [
        "# 19. A manufacturer produces two different versions of a product and wants to compare their quality scores.\n",
        "# Create a Python function to analyze quality assessment data, calculate the t-statistic, and decide\n",
        "# whether there's a significant difference in quality between the two versions.\n",
        "\n",
        "\n",
        "# Use the following dataY\n",
        "# ```python\n",
        "\n",
        "# version1_scores = [85, 88, 82, 89, 87, 84, 90, 88, 85, 86, 91, 83, 87, 84, 89, 86, 84, 88, 85, 86, 89, 90, 87, 88, 85]\n",
        "\n",
        "# version2_scores = [80, 78, 83, 81, 79, 82, 76, 80, 78, 81, 77, 82, 80, 79, 82, 79, 80, 81, 79, 82, 79, 78, 80, 81, 82]\n",
        "\n",
        "# ```\n",
        "\n",
        "\n",
        "import numpy as np\n",
        "from scipy import stats\n",
        "\n",
        "# Quality scores for two product versions\n",
        "version1_scores = [85, 88, 82, 89, 87, 84, 90, 88, 85, 86, 91, 83, 87, 84, 89, 86, 84, 88, 85, 86, 89, 90, 87, 88, 85]\n",
        "version2_scores = [80, 78, 83, 81, 79, 82, 76, 80, 78, 81, 77, 82, 80, 79, 82, 79, 80, 81, 79, 82, 79, 78, 80, 81, 82]\n",
        "\n",
        "# Perform two-sample t-test (Welch's t-test)\n",
        "t_statistic, p_value = stats.ttest_ind(version1_scores, version2_scores, equal_var=False)\n",
        "\n",
        "# Output the results\n",
        "print(f\"T-statistic: {t_statistic}\")\n",
        "print(f\"P-value: {p_value}\")\n",
        "\n",
        "# Conclusion\n",
        "alpha = 0.05\n",
        "if p_value < alpha:\n",
        "    print(\"Reject the null hypothesis. There is a significant difference in quality between the two product versions.\")\n",
        "else:\n",
        "    print(\"Fail to reject the null hypothesis. No significant difference in quality between the two product versions.\")\n"
      ],
      "metadata": {
        "colab": {
          "base_uri": "https://localhost:8080/"
        },
        "id": "yeMrs_rR5KjV",
        "outputId": "c46751aa-e4fd-49ab-add2-58ec8b292667"
      },
      "execution_count": 35,
      "outputs": [
        {
          "output_type": "stream",
          "name": "stdout",
          "text": [
            "T-statistic: 11.325830417646698\n",
            "P-value: 1.078754084378157e-14\n",
            "Reject the null hypothesis. There is a significant difference in quality between the two product versions.\n"
          ]
        }
      ]
    },
    {
      "cell_type": "code",
      "source": [
        "#  20. A restaurant chain collects customer satisfaction scores for two different branches. Write a program to\n",
        "# analyze the scores, calculate the t-statistic, and determine if there's a statistically significant difference in\n",
        "# customer satisfaction between the branches.\n",
        "\n",
        "\n",
        "# Use the below data of scores:\n",
        "\n",
        "#   ```python\n",
        "\n",
        "# branch_a_scores = [4, 5, 3, 4, 5, 4, 5, 3, 4, 4, 5, 4, 4, 3, 4, 5, 5, 4, 3, 4, 5, 4, 3, 5, 4, 4, 5, 3, 4, 5, 4]\n",
        "\n",
        "# branch_b_scores = [3, 4, 2, 3, 4, 3, 4, 2, 3, 3, 4, 3, 3, 2, 3, 4, 4, 3, 2, 3, 4, 3, 2, 4, 3, 3, 4, 2, 3, 4, 3]\n",
        "\n",
        "#   ```\n",
        "\n",
        "import numpy as np\n",
        "from scipy import stats\n",
        "\n",
        "# Customer satisfaction scores for two branches\n",
        "branch_a_scores = [4, 5, 3, 4, 5, 4, 5, 3, 4, 4, 5, 4, 4, 3, 4, 5, 5, 4, 3, 4, 5, 4, 3, 5, 4, 4, 5, 3, 4, 5, 4]\n",
        "branch_b_scores = [3, 4, 2, 3, 4, 3, 4, 2, 3, 3, 4, 3, 3, 2, 3, 4, 4, 3, 2, 3, 4, 3, 2, 4, 3, 3, 4, 2, 3, 4, 3]\n",
        "\n",
        "# Perform two-sample t-test (Welch's t-test)\n",
        "t_statistic, p_value = stats.ttest_ind(branch_a_scores, branch_b_scores, equal_var=False)\n",
        "\n",
        "# Output the results\n",
        "print(f\"T-statistic: {t_statistic}\")\n",
        "print(f\"P-value: {p_value}\")\n",
        "\n",
        "# Conclusion\n",
        "alpha = 0.05\n",
        "if p_value < alpha:\n",
        "    print(\"Reject the null hypothesis. There is a significant difference in customer satisfaction between the two branches.\")\n",
        "else:\n",
        "    print(\"Fail to reject the null hypothesis. No significant difference in customer satisfaction between the two branches.\")\n"
      ],
      "metadata": {
        "colab": {
          "base_uri": "https://localhost:8080/"
        },
        "id": "aRqPOUIf5Kly",
        "outputId": "f9926c04-218f-4683-e4da-ab3b7df9b56f"
      },
      "execution_count": 36,
      "outputs": [
        {
          "output_type": "stream",
          "name": "stdout",
          "text": [
            "T-statistic: 5.480077554195743\n",
            "P-value: 8.895290509945655e-07\n",
            "Reject the null hypothesis. There is a significant difference in customer satisfaction between the two branches.\n"
          ]
        }
      ]
    },
    {
      "cell_type": "code",
      "source": [
        "# 21. A political analyst wants to determine if there is a significant association between age groups and voter\n",
        "# preferences (Candidate A or Candidate B). They collect data from a sample of 500 voters and classify\n",
        "# them into different age groups and candidate preferences. Perform a Chi-Square test to determine if\n",
        "# there is a significant association between age groups and voter preferences.\n",
        "\n",
        "# Use the below code to generate data:\n",
        "\n",
        "# ```python\n",
        "\n",
        "# np.random.seed(0)\n",
        "\n",
        "# age_groups = np.random.choice([ 18 30 , 31 50 , 51+', 51+'], size=30)\n",
        "\n",
        "# voter_preferences = np.random.choice(['Candidate A', 'Candidate B'], size=30)\n",
        "\n",
        "\n",
        "import numpy as np\n",
        "import pandas as pd\n",
        "from scipy.stats import chi2_contingency\n",
        "\n",
        "# Generate synthetic data\n",
        "np.random.seed(0)\n",
        "\n",
        "age_groups = np.random.choice(['18-30', '31-50', '51+'], size=30)\n",
        "voter_preferences = np.random.choice(['Candidate A', 'Candidate B'], size=30)\n",
        "\n",
        "# Create a contingency table\n",
        "data = pd.DataFrame({'Age Group': age_groups, 'Voter Preference': voter_preferences})\n",
        "contingency_table = pd.crosstab(data['Age Group'], data['Voter Preference'])\n",
        "\n",
        "print(\"Contingency Table:\")\n",
        "print(contingency_table)\n",
        "\n",
        "# Perform Chi-Square test for independence\n",
        "chi2, p, dof, expected = chi2_contingency(contingency_table)\n",
        "\n",
        "# Output the results\n",
        "print(f\"\\nChi-Square Statistic: {chi2}\")\n",
        "print(f\"P-value: {p}\")\n",
        "print(f\"Degrees of Freedom: {dof}\")\n",
        "print(\"Expected Frequencies:\")\n",
        "print(expected)\n",
        "\n",
        "# Conclusion\n",
        "alpha = 0.05\n",
        "if p < alpha:\n",
        "    print(\"\\nReject the null hypothesis. There is a significant association between age groups and voter preferences.\")\n",
        "else:\n",
        "    print(\"\\nFail to reject the null hypothesis. There is no significant association between age groups and voter preferences.\")\n"
      ],
      "metadata": {
        "colab": {
          "base_uri": "https://localhost:8080/"
        },
        "id": "xOztsdCd5Kof",
        "outputId": "706798cc-b166-4ffd-de2a-f531e719c1fb"
      },
      "execution_count": 37,
      "outputs": [
        {
          "output_type": "stream",
          "name": "stdout",
          "text": [
            "Contingency Table:\n",
            "Voter Preference  Candidate A  Candidate B\n",
            "Age Group                                 \n",
            "18-30                       4            8\n",
            "31-50                       6            5\n",
            "51+                         4            3\n",
            "\n",
            "Chi-Square Statistic: 1.4401669758812612\n",
            "P-value: 0.48671161971286614\n",
            "Degrees of Freedom: 2\n",
            "Expected Frequencies:\n",
            "[[5.6        6.4       ]\n",
            " [5.13333333 5.86666667]\n",
            " [3.26666667 3.73333333]]\n",
            "\n",
            "Fail to reject the null hypothesis. There is no significant association between age groups and voter preferences.\n"
          ]
        }
      ]
    },
    {
      "cell_type": "code",
      "source": [
        "#  22. A company conducted a customer satisfaction survey to determine if there is a significant relationship\n",
        "# between product satisfaction levels (Satisfied, Neutral, Dissatisfied) and the region where customers are\n",
        "# located (East, West, North, South). The survey data is summarized in a contingency table. Conduct a ChiSquare test to determine if there is a significant relationship between product satisfaction levels and\n",
        "# customer regions.\n",
        "\n",
        "\n",
        "# Sample data:\n",
        "\n",
        "# ```python\n",
        "\n",
        "# #Sample data: Product satisfaction levels (rows) vs. Customer regions (columns)\n",
        "\n",
        "# data = np.array([[50, 30, 40, 20], [30, 40, 30, 50], [20, 30, 40, 30]])\n",
        "\n",
        "# ```\n",
        "\n",
        "\n",
        "import numpy as np\n",
        "from scipy.stats import chi2_contingency\n",
        "\n",
        "# Sample data: Product satisfaction levels (rows) vs. Customer regions (columns)\n",
        "data = np.array([[50, 30, 40, 20],  # Satisfied\n",
        "                 [30, 40, 30, 50],  # Neutral\n",
        "                 [20, 30, 40, 30]]) # Dissatisfied\n",
        "\n",
        "# Perform Chi-Square test for independence\n",
        "chi2, p, dof, expected = chi2_contingency(data)\n",
        "\n",
        "# Output the results\n",
        "print(f\"Chi-Square Statistic: {chi2}\")\n",
        "print(f\"P-value: {p}\")\n",
        "print(f\"Degrees of Freedom: {dof}\")\n",
        "print(\"Expected Frequencies:\")\n",
        "print(expected)\n",
        "\n",
        "# Conclusion\n",
        "alpha = 0.05\n",
        "if p < alpha:\n",
        "    print(\"\\nReject the null hypothesis. There is a significant relationship between product satisfaction and customer regions.\")\n",
        "else:\n",
        "    print(\"\\nFail to reject the null hypothesis. There is no significant relationship between product satisfaction and customer regions.\")\n"
      ],
      "metadata": {
        "colab": {
          "base_uri": "https://localhost:8080/"
        },
        "id": "-nb5P6GK5Kqr",
        "outputId": "ed58804c-036b-4831-f061-f3ccf7c6c865"
      },
      "execution_count": 38,
      "outputs": [
        {
          "output_type": "stream",
          "name": "stdout",
          "text": [
            "Chi-Square Statistic: 27.777056277056275\n",
            "P-value: 0.00010349448486004387\n",
            "Degrees of Freedom: 6\n",
            "Expected Frequencies:\n",
            "[[34.14634146 34.14634146 37.56097561 34.14634146]\n",
            " [36.58536585 36.58536585 40.24390244 36.58536585]\n",
            " [29.26829268 29.26829268 32.19512195 29.26829268]]\n",
            "\n",
            "Reject the null hypothesis. There is a significant relationship between product satisfaction and customer regions.\n"
          ]
        }
      ]
    },
    {
      "cell_type": "code",
      "source": [
        "#  23. A company implemented an employee training program to improve job performance (Effective, Neutral,\n",
        "# Ineffective). After the training, they collected data from a sample of employees and classified them based\n",
        "# on their job performance before and after the training. Perform a Chi-Square test to determine if there is a\n",
        "# significant difference between job performance levels before and after the training.\n",
        "\n",
        "\n",
        "# Sample data:\n",
        "\n",
        "# ```python\n",
        "\n",
        "# # Sample data: Job performance levels before (rows) and after (columns) training\n",
        "\n",
        "# data = np.array([[50, 30, 20], [30, 40, 30], [20, 30, 40]])\n",
        "\n",
        "# ```\n",
        "\n",
        "\n",
        "import numpy as np\n",
        "from scipy.stats import chi2_contingency\n",
        "\n",
        "# Sample data: Job performance levels before (rows) and after (columns) training\n",
        "data = np.array([[50, 30, 20],  # Effective, Neutral, Ineffective (Before Training)\n",
        "                 [30, 40, 30],  # Effective, Neutral, Ineffective (After Training)\n",
        "                 [20, 30, 40]]) # Effective, Neutral, Ineffective (After Training)\n",
        "\n",
        "# Perform Chi-Square test for independence\n",
        "chi2, p, dof, expected = chi2_contingency(data)\n",
        "\n",
        "# Output the results\n",
        "print(f\"Chi-Square Statistic: {chi2}\")\n",
        "print(f\"P-value: {p}\")\n",
        "print(f\"Degrees of Freedom: {dof}\")\n",
        "print(\"Expected Frequencies:\")\n",
        "print(expected)\n",
        "\n",
        "# Conclusion\n",
        "alpha = 0.05\n",
        "if p < alpha:\n",
        "    print(\"\\nReject the null hypothesis. There is a significant difference in job performance levels before and after the training.\")\n",
        "else:\n",
        "    print(\"\\nFail to reject the null hypothesis. There is no significant difference in job performance levels before and after the training.\")\n"
      ],
      "metadata": {
        "colab": {
          "base_uri": "https://localhost:8080/"
        },
        "id": "EVRlri3g5KtV",
        "outputId": "7b32d566-b089-479c-af6b-cf324d73b840"
      },
      "execution_count": 39,
      "outputs": [
        {
          "output_type": "stream",
          "name": "stdout",
          "text": [
            "Chi-Square Statistic: 22.161728395061726\n",
            "P-value: 0.00018609719479882557\n",
            "Degrees of Freedom: 4\n",
            "Expected Frequencies:\n",
            "[[34.48275862 34.48275862 31.03448276]\n",
            " [34.48275862 34.48275862 31.03448276]\n",
            " [31.03448276 31.03448276 27.93103448]]\n",
            "\n",
            "Reject the null hypothesis. There is a significant difference in job performance levels before and after the training.\n"
          ]
        }
      ]
    },
    {
      "cell_type": "code",
      "source": [
        "# #\n",
        "#  24. A company produces three different versions of a product: Standard, Premium, and Deluxe. The\n",
        "# company wants to determine if there is a significant difference in customer satisfaction scores among the\n",
        "# three product versions. They conducted a survey and collected customer satisfaction scores for each\n",
        "# version from a random sample of customers. Perform an ANOVA test to determine if there is a significant\n",
        "# difference in customer satisfaction scores.\n",
        "\n",
        "#   Use the following data:\n",
        "\n",
        "#   ```python\n",
        "\n",
        "#   # Sample data: Customer satisfaction scores for each product version\n",
        "\n",
        "#   standard_scores = [80, 85, 90, 78, 88, 82, 92, 78, 85, 87]\n",
        "\n",
        "#   premium_scores = [90, 92, 88, 92, 95, 91, 96, 93, 89, 93]\n",
        "\n",
        "#   deluxe_scores = [95, 98, 92, 97, 96, 94, 98, 97, 92, 99]\n",
        "\n",
        "\n",
        "import numpy as np\n",
        "from scipy.stats import f_oneway\n",
        "\n",
        "# Sample data: Customer satisfaction scores for each product version\n",
        "standard_scores = [80, 85, 90, 78, 88, 82, 92, 78, 85, 87]\n",
        "premium_scores = [90, 92, 88, 92, 95, 91, 96, 93, 89, 93]\n",
        "deluxe_scores = [95, 98, 92, 97, 96, 94, 98, 97, 92, 99]\n",
        "\n",
        "# Perform ANOVA test\n",
        "f_statistic, p_value = f_oneway(standard_scores, premium_scores, deluxe_scores)\n",
        "\n",
        "# Output the results\n",
        "print(f\"F-Statistic: {f_statistic}\")\n",
        "print(f\"P-value: {p_value}\")\n",
        "\n",
        "# Conclusion\n",
        "alpha = 0.05\n",
        "if p_value < alpha:\n",
        "    print(\"\\nReject the null hypothesis. There is a significant difference in customer satisfaction scores among the three product versions.\")\n",
        "else:\n",
        "    print(\"\\nFail to reject the null hypothesis. There is no significant difference in customer satisfaction scores among the three product versions.\")\n"
      ],
      "metadata": {
        "colab": {
          "base_uri": "https://localhost:8080/"
        },
        "id": "HRr3Be1NCGYx",
        "outputId": "acf7a988-e59e-4c58-b48c-1caf6322eefc"
      },
      "execution_count": 40,
      "outputs": [
        {
          "output_type": "stream",
          "name": "stdout",
          "text": [
            "F-Statistic: 27.03556231003039\n",
            "P-value: 3.5786328857349003e-07\n",
            "\n",
            "Reject the null hypothesis. There is a significant difference in customer satisfaction scores among the three product versions.\n"
          ]
        }
      ]
    }
  ]
}